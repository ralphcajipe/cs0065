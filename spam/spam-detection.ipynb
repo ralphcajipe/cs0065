{
  "cells": [
    {
      "cell_type": "markdown",
      "metadata": {
        "id": "gvU0-F34_T0f"
      },
      "source": [
        "# **Spam Detection**\n",
        "By Ralph Cajipe"
      ]
    },
    {
      "cell_type": "markdown",
      "source": [
        "This notebook shows how to detect if an email is a spam or not spam using Gradient Boosting Classifier model in Python. This code uses scikit-learn implementation.\n",
        "\n",
        "The code in this notebook is inspired by the following work:\n",
        "\n",
        "\n",
        "*   Build a Spam Classifier from [Hands-on Machine Learning with Scikit-Learn, Keras and TensorFlow](https://www.oreilly.com/library/view/hands-on-machine-learning/9781492032632/) by Aurélien Géron\n",
        "*   [Spam Detection](https://towardsdatascience.com/3-super-simple-projects-to-learn-natural-language-processing-using-python-8ef74c757cd9#:~:text=Project%202%3A%20Spam%20Detection) by Eric Kleppen\n",
        "\n"
      ],
      "metadata": {
        "id": "QGyLOLCLnAbK"
      }
    },
    {
      "cell_type": "markdown",
      "metadata": {
        "id": "EngZWWx8_Zrv"
      },
      "source": [
        "Of more than 300 billion emails sent every day, at least half are spam. Email providers have the huge task of filtering  out the spam and making sure their users receive the messages that matter. \n",
        "Spam detection is messy. The line between spam and non-spam messages is fuzzy, and the criteria change over  time. From various efforts to automate spam detection, machine learning has so far proven to be the most effective  and the favored approach by email providers. Although we still see spammy emails, a quick look at the junk folder will  show how much spam gets weeded out of our inboxes every day thanks to machine learning algorithms. \n",
        "\n",
        "Spam Detection is a **binary classification** problem since an email can be either **spam (1)** or **not spam (0)**. The following  steps would help you build a Machine Learning model that can identify whether or not an email is a spam. You will use  the Python library Scikit-Learn to explore tokenization, vectorization, and statistical classification algorithms. \n"
      ]
    },
    {
      "cell_type": "markdown",
      "source": [
        "# **Part I**"
      ],
      "metadata": {
        "id": "ov6dDYuYY8iY"
      }
    },
    {
      "cell_type": "markdown",
      "source": [
        "## Data Preprocessing"
      ],
      "metadata": {
        "id": "SdMn4HS4QMew"
      }
    },
    {
      "cell_type": "code",
      "source": [
        "import pandas as pd\n",
        "import regex as re"
      ],
      "metadata": {
        "id": "fKyQtBkxJ5V3"
      },
      "execution_count": null,
      "outputs": []
    },
    {
      "cell_type": "code",
      "source": [
        "df = pd.read_excel('/content/emails.xlsx')\n",
        "df.head()"
      ],
      "metadata": {
        "colab": {
          "base_uri": "https://localhost:8080/",
          "height": 681
        },
        "id": "aj_8HsxXJ76v",
        "outputId": "7b162697-215a-438f-919d-9a8a3d4ad327"
      },
      "execution_count": null,
      "outputs": [
        {
          "output_type": "execute_result",
          "data": {
            "text/plain": [
              "                                                text spam Unnamed: 2  \\\n",
              "0  Subject: naturally irresistible your corporate...    1        NaN   \n",
              "1  Subject: the stock trading gunslinger  fanny i...    1        NaN   \n",
              "2  Subject: unbelievable new homes made easy  im ...    1        NaN   \n",
              "3  Subject: 4 color printing special  request add...    1        NaN   \n",
              "4  Subject: do not have money , get software cds ...    1        NaN   \n",
              "\n",
              "  Unnamed: 3 Unnamed: 4 Unnamed: 5 Unnamed: 6 Unnamed: 7 Unnamed: 8  \\\n",
              "0        NaN        NaN        NaN        NaN        NaN        NaN   \n",
              "1        NaN        NaN        NaN        NaN        NaN        NaN   \n",
              "2        NaN        NaN        NaN        NaN        NaN        NaN   \n",
              "3        NaN        NaN        NaN        NaN        NaN        NaN   \n",
              "4        NaN        NaN        NaN        NaN        NaN        NaN   \n",
              "\n",
              "  Unnamed: 9  ... Unnamed: 100 Unnamed: 101 Unnamed: 102 Unnamed: 103  \\\n",
              "0        NaN  ...          NaN          NaN          NaN          NaN   \n",
              "1        NaN  ...          NaN          NaN          NaN          NaN   \n",
              "2        NaN  ...          NaN          NaN          NaN          NaN   \n",
              "3        NaN  ...          NaN          NaN          NaN          NaN   \n",
              "4        NaN  ...          NaN          NaN          NaN          NaN   \n",
              "\n",
              "  Unnamed: 104 Unnamed: 105 Unnamed: 106 Unnamed: 107 Unnamed: 108  \\\n",
              "0          NaN          NaN          NaN          NaN          NaN   \n",
              "1          NaN          NaN          NaN          NaN          NaN   \n",
              "2          NaN          NaN          NaN          NaN          NaN   \n",
              "3          NaN          NaN          NaN          NaN          NaN   \n",
              "4          NaN          NaN          NaN          NaN          NaN   \n",
              "\n",
              "  Unnamed: 109  \n",
              "0          NaN  \n",
              "1          NaN  \n",
              "2          NaN  \n",
              "3          NaN  \n",
              "4          NaN  \n",
              "\n",
              "[5 rows x 110 columns]"
            ],
            "text/html": [
              "\n",
              "  <div id=\"df-a9be980b-4b98-4e1c-9a9d-9d2a819c37d3\">\n",
              "    <div class=\"colab-df-container\">\n",
              "      <div>\n",
              "<style scoped>\n",
              "    .dataframe tbody tr th:only-of-type {\n",
              "        vertical-align: middle;\n",
              "    }\n",
              "\n",
              "    .dataframe tbody tr th {\n",
              "        vertical-align: top;\n",
              "    }\n",
              "\n",
              "    .dataframe thead th {\n",
              "        text-align: right;\n",
              "    }\n",
              "</style>\n",
              "<table border=\"1\" class=\"dataframe\">\n",
              "  <thead>\n",
              "    <tr style=\"text-align: right;\">\n",
              "      <th></th>\n",
              "      <th>text</th>\n",
              "      <th>spam</th>\n",
              "      <th>Unnamed: 2</th>\n",
              "      <th>Unnamed: 3</th>\n",
              "      <th>Unnamed: 4</th>\n",
              "      <th>Unnamed: 5</th>\n",
              "      <th>Unnamed: 6</th>\n",
              "      <th>Unnamed: 7</th>\n",
              "      <th>Unnamed: 8</th>\n",
              "      <th>Unnamed: 9</th>\n",
              "      <th>...</th>\n",
              "      <th>Unnamed: 100</th>\n",
              "      <th>Unnamed: 101</th>\n",
              "      <th>Unnamed: 102</th>\n",
              "      <th>Unnamed: 103</th>\n",
              "      <th>Unnamed: 104</th>\n",
              "      <th>Unnamed: 105</th>\n",
              "      <th>Unnamed: 106</th>\n",
              "      <th>Unnamed: 107</th>\n",
              "      <th>Unnamed: 108</th>\n",
              "      <th>Unnamed: 109</th>\n",
              "    </tr>\n",
              "  </thead>\n",
              "  <tbody>\n",
              "    <tr>\n",
              "      <th>0</th>\n",
              "      <td>Subject: naturally irresistible your corporate...</td>\n",
              "      <td>1</td>\n",
              "      <td>NaN</td>\n",
              "      <td>NaN</td>\n",
              "      <td>NaN</td>\n",
              "      <td>NaN</td>\n",
              "      <td>NaN</td>\n",
              "      <td>NaN</td>\n",
              "      <td>NaN</td>\n",
              "      <td>NaN</td>\n",
              "      <td>...</td>\n",
              "      <td>NaN</td>\n",
              "      <td>NaN</td>\n",
              "      <td>NaN</td>\n",
              "      <td>NaN</td>\n",
              "      <td>NaN</td>\n",
              "      <td>NaN</td>\n",
              "      <td>NaN</td>\n",
              "      <td>NaN</td>\n",
              "      <td>NaN</td>\n",
              "      <td>NaN</td>\n",
              "    </tr>\n",
              "    <tr>\n",
              "      <th>1</th>\n",
              "      <td>Subject: the stock trading gunslinger  fanny i...</td>\n",
              "      <td>1</td>\n",
              "      <td>NaN</td>\n",
              "      <td>NaN</td>\n",
              "      <td>NaN</td>\n",
              "      <td>NaN</td>\n",
              "      <td>NaN</td>\n",
              "      <td>NaN</td>\n",
              "      <td>NaN</td>\n",
              "      <td>NaN</td>\n",
              "      <td>...</td>\n",
              "      <td>NaN</td>\n",
              "      <td>NaN</td>\n",
              "      <td>NaN</td>\n",
              "      <td>NaN</td>\n",
              "      <td>NaN</td>\n",
              "      <td>NaN</td>\n",
              "      <td>NaN</td>\n",
              "      <td>NaN</td>\n",
              "      <td>NaN</td>\n",
              "      <td>NaN</td>\n",
              "    </tr>\n",
              "    <tr>\n",
              "      <th>2</th>\n",
              "      <td>Subject: unbelievable new homes made easy  im ...</td>\n",
              "      <td>1</td>\n",
              "      <td>NaN</td>\n",
              "      <td>NaN</td>\n",
              "      <td>NaN</td>\n",
              "      <td>NaN</td>\n",
              "      <td>NaN</td>\n",
              "      <td>NaN</td>\n",
              "      <td>NaN</td>\n",
              "      <td>NaN</td>\n",
              "      <td>...</td>\n",
              "      <td>NaN</td>\n",
              "      <td>NaN</td>\n",
              "      <td>NaN</td>\n",
              "      <td>NaN</td>\n",
              "      <td>NaN</td>\n",
              "      <td>NaN</td>\n",
              "      <td>NaN</td>\n",
              "      <td>NaN</td>\n",
              "      <td>NaN</td>\n",
              "      <td>NaN</td>\n",
              "    </tr>\n",
              "    <tr>\n",
              "      <th>3</th>\n",
              "      <td>Subject: 4 color printing special  request add...</td>\n",
              "      <td>1</td>\n",
              "      <td>NaN</td>\n",
              "      <td>NaN</td>\n",
              "      <td>NaN</td>\n",
              "      <td>NaN</td>\n",
              "      <td>NaN</td>\n",
              "      <td>NaN</td>\n",
              "      <td>NaN</td>\n",
              "      <td>NaN</td>\n",
              "      <td>...</td>\n",
              "      <td>NaN</td>\n",
              "      <td>NaN</td>\n",
              "      <td>NaN</td>\n",
              "      <td>NaN</td>\n",
              "      <td>NaN</td>\n",
              "      <td>NaN</td>\n",
              "      <td>NaN</td>\n",
              "      <td>NaN</td>\n",
              "      <td>NaN</td>\n",
              "      <td>NaN</td>\n",
              "    </tr>\n",
              "    <tr>\n",
              "      <th>4</th>\n",
              "      <td>Subject: do not have money , get software cds ...</td>\n",
              "      <td>1</td>\n",
              "      <td>NaN</td>\n",
              "      <td>NaN</td>\n",
              "      <td>NaN</td>\n",
              "      <td>NaN</td>\n",
              "      <td>NaN</td>\n",
              "      <td>NaN</td>\n",
              "      <td>NaN</td>\n",
              "      <td>NaN</td>\n",
              "      <td>...</td>\n",
              "      <td>NaN</td>\n",
              "      <td>NaN</td>\n",
              "      <td>NaN</td>\n",
              "      <td>NaN</td>\n",
              "      <td>NaN</td>\n",
              "      <td>NaN</td>\n",
              "      <td>NaN</td>\n",
              "      <td>NaN</td>\n",
              "      <td>NaN</td>\n",
              "      <td>NaN</td>\n",
              "    </tr>\n",
              "  </tbody>\n",
              "</table>\n",
              "<p>5 rows × 110 columns</p>\n",
              "</div>\n",
              "      <button class=\"colab-df-convert\" onclick=\"convertToInteractive('df-a9be980b-4b98-4e1c-9a9d-9d2a819c37d3')\"\n",
              "              title=\"Convert this dataframe to an interactive table.\"\n",
              "              style=\"display:none;\">\n",
              "        \n",
              "  <svg xmlns=\"http://www.w3.org/2000/svg\" height=\"24px\"viewBox=\"0 0 24 24\"\n",
              "       width=\"24px\">\n",
              "    <path d=\"M0 0h24v24H0V0z\" fill=\"none\"/>\n",
              "    <path d=\"M18.56 5.44l.94 2.06.94-2.06 2.06-.94-2.06-.94-.94-2.06-.94 2.06-2.06.94zm-11 1L8.5 8.5l.94-2.06 2.06-.94-2.06-.94L8.5 2.5l-.94 2.06-2.06.94zm10 10l.94 2.06.94-2.06 2.06-.94-2.06-.94-.94-2.06-.94 2.06-2.06.94z\"/><path d=\"M17.41 7.96l-1.37-1.37c-.4-.4-.92-.59-1.43-.59-.52 0-1.04.2-1.43.59L10.3 9.45l-7.72 7.72c-.78.78-.78 2.05 0 2.83L4 21.41c.39.39.9.59 1.41.59.51 0 1.02-.2 1.41-.59l7.78-7.78 2.81-2.81c.8-.78.8-2.07 0-2.86zM5.41 20L4 18.59l7.72-7.72 1.47 1.35L5.41 20z\"/>\n",
              "  </svg>\n",
              "      </button>\n",
              "      \n",
              "  <style>\n",
              "    .colab-df-container {\n",
              "      display:flex;\n",
              "      flex-wrap:wrap;\n",
              "      gap: 12px;\n",
              "    }\n",
              "\n",
              "    .colab-df-convert {\n",
              "      background-color: #E8F0FE;\n",
              "      border: none;\n",
              "      border-radius: 50%;\n",
              "      cursor: pointer;\n",
              "      display: none;\n",
              "      fill: #1967D2;\n",
              "      height: 32px;\n",
              "      padding: 0 0 0 0;\n",
              "      width: 32px;\n",
              "    }\n",
              "\n",
              "    .colab-df-convert:hover {\n",
              "      background-color: #E2EBFA;\n",
              "      box-shadow: 0px 1px 2px rgba(60, 64, 67, 0.3), 0px 1px 3px 1px rgba(60, 64, 67, 0.15);\n",
              "      fill: #174EA6;\n",
              "    }\n",
              "\n",
              "    [theme=dark] .colab-df-convert {\n",
              "      background-color: #3B4455;\n",
              "      fill: #D2E3FC;\n",
              "    }\n",
              "\n",
              "    [theme=dark] .colab-df-convert:hover {\n",
              "      background-color: #434B5C;\n",
              "      box-shadow: 0px 1px 3px 1px rgba(0, 0, 0, 0.15);\n",
              "      filter: drop-shadow(0px 1px 2px rgba(0, 0, 0, 0.3));\n",
              "      fill: #FFFFFF;\n",
              "    }\n",
              "  </style>\n",
              "\n",
              "      <script>\n",
              "        const buttonEl =\n",
              "          document.querySelector('#df-a9be980b-4b98-4e1c-9a9d-9d2a819c37d3 button.colab-df-convert');\n",
              "        buttonEl.style.display =\n",
              "          google.colab.kernel.accessAllowed ? 'block' : 'none';\n",
              "\n",
              "        async function convertToInteractive(key) {\n",
              "          const element = document.querySelector('#df-a9be980b-4b98-4e1c-9a9d-9d2a819c37d3');\n",
              "          const dataTable =\n",
              "            await google.colab.kernel.invokeFunction('convertToInteractive',\n",
              "                                                     [key], {});\n",
              "          if (!dataTable) return;\n",
              "\n",
              "          const docLinkHtml = 'Like what you see? Visit the ' +\n",
              "            '<a target=\"_blank\" href=https://colab.research.google.com/notebooks/data_table.ipynb>data table notebook</a>'\n",
              "            + ' to learn more about interactive tables.';\n",
              "          element.innerHTML = '';\n",
              "          dataTable['output_type'] = 'display_data';\n",
              "          await google.colab.output.renderOutput(dataTable, element);\n",
              "          const docLink = document.createElement('div');\n",
              "          docLink.innerHTML = docLinkHtml;\n",
              "          element.appendChild(docLink);\n",
              "        }\n",
              "      </script>\n",
              "    </div>\n",
              "  </div>\n",
              "  "
            ]
          },
          "metadata": {},
          "execution_count": 93
        }
      ]
    },
    {
      "cell_type": "code",
      "source": [
        "df.shape"
      ],
      "metadata": {
        "colab": {
          "base_uri": "https://localhost:8080/"
        },
        "id": "bM5i6RoiOJXN",
        "outputId": "4c755c58-ef16-401f-ae01-c7b199b184ea"
      },
      "execution_count": null,
      "outputs": [
        {
          "output_type": "execute_result",
          "data": {
            "text/plain": [
              "(5732, 110)"
            ]
          },
          "metadata": {},
          "execution_count": 94
        }
      ]
    },
    {
      "cell_type": "markdown",
      "source": [
        "## Keep a copy of the original dataframe for backup!"
      ],
      "metadata": {
        "id": "_y81NWzDPPPQ"
      }
    },
    {
      "cell_type": "code",
      "source": [
        "df_original = df.copy()"
      ],
      "metadata": {
        "id": "nfmurK80ORQX"
      },
      "execution_count": null,
      "outputs": []
    },
    {
      "cell_type": "markdown",
      "source": [
        "## Check for non-integer values and missing values in the 'spam' column:"
      ],
      "metadata": {
        "id": "qNbF4B6uPf93"
      }
    },
    {
      "cell_type": "code",
      "source": [
        "# Check for non-integer values\n",
        "non_integer_rows = df[df['spam'].apply(lambda x: type(x) != int)]\n",
        "print(\"Rows with non-integer values in 'spam' column:\")\n",
        "print(non_integer_rows)\n",
        "\n",
        "# Check for missing values\n",
        "missing_value_rows = df[df['spam'].isna()]\n",
        "print(\"Rows with missing values in 'spam' column:\")\n",
        "print(missing_value_rows)\n"
      ],
      "metadata": {
        "colab": {
          "base_uri": "https://localhost:8080/"
        },
        "id": "z9ohyeYoNHVH",
        "outputId": "a530250a-d92c-4d1a-88f6-08e65d445a25"
      },
      "execution_count": null,
      "outputs": [
        {
          "output_type": "stream",
          "name": "stdout",
          "text": [
            "Rows with non-integer values in 'spam' column:\n",
            "                                                   text  \\\n",
            "1380  Subject: from the enron india newsdesk - april...   \n",
            "1381                                                NaN   \n",
            "1382  e dpc contributed only 0 . 7 per  cent of the ...   \n",
            "2652  Subject: from the enron india newsdesk - april...   \n",
            "2653                                                NaN   \n",
            "2654  lf against undeserved claims in the event of e...   \n",
            "\n",
            "                                                   spam  \\\n",
            "1380                                                NaN   \n",
            "1381                                                NaN   \n",
            "1382   its termination would not  have such a phenom...   \n",
            "2652                                                NaN   \n",
            "2653                                                NaN   \n",
            "2654                                  mr suresh prabhu    \n",
            "\n",
            "                                             Unnamed: 2  \\\n",
            "1380                                                NaN   \n",
            "1381                                                NaN   \n",
            "1382            if terminations proceedings go through    \n",
            "2652                                                NaN   \n",
            "2653                                                NaN   \n",
            "2654   contended in delhi that since dpc contributed...   \n",
            "\n",
            "                                             Unnamed: 3  \\\n",
            "1380                                                NaN   \n",
            "1381                                                NaN   \n",
            "1382                                        enron corp    \n",
            "2652                                                NaN   \n",
            "2653                                                NaN   \n",
            "2654   its termination would not have such a phenome...   \n",
            "\n",
            "                                             Unnamed: 4  \\\n",
            "1380                                                NaN   \n",
            "1381                                                NaN   \n",
            "1382   a 65 per cent  share - holder in the dabhol p...   \n",
            "2652                                                NaN   \n",
            "2653                                                NaN   \n",
            "2654            if terminations proceedings go through    \n",
            "\n",
            "                                             Unnamed: 5  \\\n",
            "1380                                                NaN   \n",
            "1381                                                NaN   \n",
            "1382   would stand to net a hefty amount  in damages...   \n",
            "2652                                                NaN   \n",
            "2653                                                NaN   \n",
            "2654                                        enron corp    \n",
            "\n",
            "                                             Unnamed: 6  \\\n",
            "1380                                                NaN   \n",
            "1381                                                NaN   \n",
            "1382                                         800 crore    \n",
            "2652                                                NaN   \n",
            "2653                                                NaN   \n",
            "2654   a 65 per cent share - holder in the dabhol po...   \n",
            "\n",
            "                                             Unnamed: 7  \\\n",
            "1380                                                NaN   \n",
            "1381                                                NaN   \n",
            "1382          which is the  total of one years _x0001_    \n",
            "2652                                                NaN   \n",
            "2653                                                NaN   \n",
            "2654   would stand to net a hefty amount in damages ...   \n",
            "\n",
            "                                             Unnamed: 8  \\\n",
            "1380                                                NaN   \n",
            "1381                                                NaN   \n",
            "1382   electricity bill and a termination fee of $ 3...   \n",
            "2652                                                NaN   \n",
            "2653                                                NaN   \n",
            "2654                                         800 crore    \n",
            "\n",
            "                                             Unnamed: 9  ...  \\\n",
            "1380                                                NaN  ...   \n",
            "1381                                                NaN  ...   \n",
            "1382                                 mr pradyumna kaul   ...   \n",
            "2652                                                NaN  ...   \n",
            "2653                                                NaN  ...   \n",
            "2654   which is the total of one years ' electricity...  ...   \n",
            "\n",
            "                                           Unnamed: 100  \\\n",
            "1380                                                NaN   \n",
            "1381                                                NaN   \n",
            "1382   chose to continue with it following renegotia...   \n",
            "2652                                                NaN   \n",
            "2653                                                NaN   \n",
            "2654     when contacted at the osmanabad circuit house    \n",
            "\n",
            "                                           Unnamed: 101  \\\n",
            "1380                                                NaN   \n",
            "1381                                                NaN   \n",
            "1382   the democratic  front government inherited th...   \n",
            "2652                                                NaN   \n",
            "2653                                                NaN   \n",
            "2654   said the state government and the central gov...   \n",
            "\n",
            "                                          Unnamed: 102  \\\n",
            "1380                                               NaN   \n",
            "1381                                               NaN   \n",
            "1382       state energy minister dr . padamsinh patil    \n",
            "2652                                               NaN   \n",
            "2653                                               NaN   \n",
            "2654   \"\" he said . in case the project is terminated    \n",
            "\n",
            "                                           Unnamed: 103  \\\n",
            "1380                                                NaN   \n",
            "1381                                                NaN   \n",
            "1382    when contacted at the  osmanabad circuit house    \n",
            "2652                                                NaN   \n",
            "2653                                                NaN   \n",
            "2654   the government can still manage the power nee...   \n",
            "\n",
            "                                           Unnamed: 104  \\\n",
            "1380                                                NaN   \n",
            "1381                                                NaN   \n",
            "1382   said the state government and the central gov...   \n",
            "2652                                                NaN   \n",
            "2653                                                NaN   \n",
            "2654                though it would be a bit tough job    \n",
            "\n",
            "                                          Unnamed: 105  \\\n",
            "1380                                               NaN   \n",
            "1381                                               NaN   \n",
            "1382   \"\" he said . in case the project is terminated    \n",
            "2652                                               NaN   \n",
            "2653                                               NaN   \n",
            "2654                                       he added .\"   \n",
            "\n",
            "                                           Unnamed: 106  \\\n",
            "1380                                                NaN   \n",
            "1381                                                NaN   \n",
            "1382   the government can still  manage the power ne...   \n",
            "2652                                                NaN   \n",
            "2653                                                NaN   \n",
            "2654                                                  0   \n",
            "\n",
            "                              Unnamed: 107   Unnamed: 108 Unnamed: 109  \n",
            "1380                                   NaN            NaN          NaN  \n",
            "1381                                   NaN            NaN          NaN  \n",
            "1382   though it would be a bit tough job    he  added .\"          0.0  \n",
            "2652                                   NaN            NaN          NaN  \n",
            "2653                                   NaN            NaN          NaN  \n",
            "2654                                   NaN            NaN          NaN  \n",
            "\n",
            "[6 rows x 110 columns]\n",
            "Rows with missing values in 'spam' column:\n",
            "                                                   text spam Unnamed: 2  \\\n",
            "1380  Subject: from the enron india newsdesk - april...  NaN        NaN   \n",
            "1381                                                NaN  NaN        NaN   \n",
            "2652  Subject: from the enron india newsdesk - april...  NaN        NaN   \n",
            "2653                                                NaN  NaN        NaN   \n",
            "\n",
            "     Unnamed: 3 Unnamed: 4 Unnamed: 5 Unnamed: 6 Unnamed: 7 Unnamed: 8  \\\n",
            "1380        NaN        NaN        NaN        NaN        NaN        NaN   \n",
            "1381        NaN        NaN        NaN        NaN        NaN        NaN   \n",
            "2652        NaN        NaN        NaN        NaN        NaN        NaN   \n",
            "2653        NaN        NaN        NaN        NaN        NaN        NaN   \n",
            "\n",
            "     Unnamed: 9  ... Unnamed: 100 Unnamed: 101 Unnamed: 102 Unnamed: 103  \\\n",
            "1380        NaN  ...          NaN          NaN          NaN          NaN   \n",
            "1381        NaN  ...          NaN          NaN          NaN          NaN   \n",
            "2652        NaN  ...          NaN          NaN          NaN          NaN   \n",
            "2653        NaN  ...          NaN          NaN          NaN          NaN   \n",
            "\n",
            "     Unnamed: 104 Unnamed: 105 Unnamed: 106 Unnamed: 107 Unnamed: 108  \\\n",
            "1380          NaN          NaN          NaN          NaN          NaN   \n",
            "1381          NaN          NaN          NaN          NaN          NaN   \n",
            "2652          NaN          NaN          NaN          NaN          NaN   \n",
            "2653          NaN          NaN          NaN          NaN          NaN   \n",
            "\n",
            "     Unnamed: 109  \n",
            "1380          NaN  \n",
            "1381          NaN  \n",
            "2652          NaN  \n",
            "2653          NaN  \n",
            "\n",
            "[4 rows x 110 columns]\n"
          ]
        }
      ]
    },
    {
      "cell_type": "markdown",
      "source": [
        "## Once you've identified the problem rows, you can drop them"
      ],
      "metadata": {
        "id": "bSF3fg0mPmrD"
      }
    },
    {
      "cell_type": "code",
      "source": [
        "# Drop rows with non-integer values\n",
        "df.drop(non_integer_rows.index, inplace=True)\n",
        "\n",
        "# Drop rows with missing values\n",
        "df.dropna(subset=['spam'], inplace=True)\n"
      ],
      "metadata": {
        "id": "EYer3ALFNdUT"
      },
      "execution_count": null,
      "outputs": []
    },
    {
      "cell_type": "markdown",
      "source": [
        "## Exploratory Analysis"
      ],
      "metadata": {
        "id": "65M-r3P4PukX"
      }
    },
    {
      "cell_type": "code",
      "source": [
        "print(\"spam count: \" +str(len(df.loc[df.spam==1])))\n",
        "print(\"not spam count: \" +str(len(df.loc[df.spam==0])))\n",
        "print(df.shape)\n",
        "df['spam'] = df['spam'].astype(int)\n",
        "\n",
        "df = df.drop_duplicates()\n",
        "print(df.shape)\n",
        "\n",
        "df = df.reset_index(inplace = False)[['text','spam']]"
      ],
      "metadata": {
        "colab": {
          "base_uri": "https://localhost:8080/"
        },
        "id": "ViU-W93_LDZL",
        "outputId": "b5e0b69f-f219-4036-f2d5-11cd10fbca6a"
      },
      "execution_count": null,
      "outputs": [
        {
          "output_type": "stream",
          "name": "stdout",
          "text": [
            "spam count: 1368\n",
            "not spam count: 4358\n",
            "(5726, 110)\n",
            "(5693, 110)\n"
          ]
        }
      ]
    },
    {
      "cell_type": "code",
      "source": [
        "df.shape"
      ],
      "metadata": {
        "colab": {
          "base_uri": "https://localhost:8080/"
        },
        "id": "Om1-QEd4NxVQ",
        "outputId": "1c2e078f-fcb8-425d-c3ad-d5cde178295e"
      },
      "execution_count": null,
      "outputs": [
        {
          "output_type": "execute_result",
          "data": {
            "text/plain": [
              "(5693, 2)"
            ]
          },
          "metadata": {},
          "execution_count": 99
        }
      ]
    },
    {
      "cell_type": "code",
      "source": [
        "df['spam'].unique()"
      ],
      "metadata": {
        "colab": {
          "base_uri": "https://localhost:8080/"
        },
        "id": "IXasE3lUObx6",
        "outputId": "acc755de-cbe6-4a2d-c688-bb286ac20a78"
      },
      "execution_count": null,
      "outputs": [
        {
          "output_type": "execute_result",
          "data": {
            "text/plain": [
              "array([1, 0])"
            ]
          },
          "metadata": {},
          "execution_count": 100
        }
      ]
    },
    {
      "cell_type": "code",
      "source": [
        "df.head()"
      ],
      "metadata": {
        "colab": {
          "base_uri": "https://localhost:8080/",
          "height": 206
        },
        "id": "R6bSKdt8OedQ",
        "outputId": "0d924b8f-6821-4164-e23d-32158baea4da"
      },
      "execution_count": null,
      "outputs": [
        {
          "output_type": "execute_result",
          "data": {
            "text/plain": [
              "                                                text  spam\n",
              "0  Subject: naturally irresistible your corporate...     1\n",
              "1  Subject: the stock trading gunslinger  fanny i...     1\n",
              "2  Subject: unbelievable new homes made easy  im ...     1\n",
              "3  Subject: 4 color printing special  request add...     1\n",
              "4  Subject: do not have money , get software cds ...     1"
            ],
            "text/html": [
              "\n",
              "  <div id=\"df-cf35ee42-0a46-4ad5-b3d5-72430f2a0b37\">\n",
              "    <div class=\"colab-df-container\">\n",
              "      <div>\n",
              "<style scoped>\n",
              "    .dataframe tbody tr th:only-of-type {\n",
              "        vertical-align: middle;\n",
              "    }\n",
              "\n",
              "    .dataframe tbody tr th {\n",
              "        vertical-align: top;\n",
              "    }\n",
              "\n",
              "    .dataframe thead th {\n",
              "        text-align: right;\n",
              "    }\n",
              "</style>\n",
              "<table border=\"1\" class=\"dataframe\">\n",
              "  <thead>\n",
              "    <tr style=\"text-align: right;\">\n",
              "      <th></th>\n",
              "      <th>text</th>\n",
              "      <th>spam</th>\n",
              "    </tr>\n",
              "  </thead>\n",
              "  <tbody>\n",
              "    <tr>\n",
              "      <th>0</th>\n",
              "      <td>Subject: naturally irresistible your corporate...</td>\n",
              "      <td>1</td>\n",
              "    </tr>\n",
              "    <tr>\n",
              "      <th>1</th>\n",
              "      <td>Subject: the stock trading gunslinger  fanny i...</td>\n",
              "      <td>1</td>\n",
              "    </tr>\n",
              "    <tr>\n",
              "      <th>2</th>\n",
              "      <td>Subject: unbelievable new homes made easy  im ...</td>\n",
              "      <td>1</td>\n",
              "    </tr>\n",
              "    <tr>\n",
              "      <th>3</th>\n",
              "      <td>Subject: 4 color printing special  request add...</td>\n",
              "      <td>1</td>\n",
              "    </tr>\n",
              "    <tr>\n",
              "      <th>4</th>\n",
              "      <td>Subject: do not have money , get software cds ...</td>\n",
              "      <td>1</td>\n",
              "    </tr>\n",
              "  </tbody>\n",
              "</table>\n",
              "</div>\n",
              "      <button class=\"colab-df-convert\" onclick=\"convertToInteractive('df-cf35ee42-0a46-4ad5-b3d5-72430f2a0b37')\"\n",
              "              title=\"Convert this dataframe to an interactive table.\"\n",
              "              style=\"display:none;\">\n",
              "        \n",
              "  <svg xmlns=\"http://www.w3.org/2000/svg\" height=\"24px\"viewBox=\"0 0 24 24\"\n",
              "       width=\"24px\">\n",
              "    <path d=\"M0 0h24v24H0V0z\" fill=\"none\"/>\n",
              "    <path d=\"M18.56 5.44l.94 2.06.94-2.06 2.06-.94-2.06-.94-.94-2.06-.94 2.06-2.06.94zm-11 1L8.5 8.5l.94-2.06 2.06-.94-2.06-.94L8.5 2.5l-.94 2.06-2.06.94zm10 10l.94 2.06.94-2.06 2.06-.94-2.06-.94-.94-2.06-.94 2.06-2.06.94z\"/><path d=\"M17.41 7.96l-1.37-1.37c-.4-.4-.92-.59-1.43-.59-.52 0-1.04.2-1.43.59L10.3 9.45l-7.72 7.72c-.78.78-.78 2.05 0 2.83L4 21.41c.39.39.9.59 1.41.59.51 0 1.02-.2 1.41-.59l7.78-7.78 2.81-2.81c.8-.78.8-2.07 0-2.86zM5.41 20L4 18.59l7.72-7.72 1.47 1.35L5.41 20z\"/>\n",
              "  </svg>\n",
              "      </button>\n",
              "      \n",
              "  <style>\n",
              "    .colab-df-container {\n",
              "      display:flex;\n",
              "      flex-wrap:wrap;\n",
              "      gap: 12px;\n",
              "    }\n",
              "\n",
              "    .colab-df-convert {\n",
              "      background-color: #E8F0FE;\n",
              "      border: none;\n",
              "      border-radius: 50%;\n",
              "      cursor: pointer;\n",
              "      display: none;\n",
              "      fill: #1967D2;\n",
              "      height: 32px;\n",
              "      padding: 0 0 0 0;\n",
              "      width: 32px;\n",
              "    }\n",
              "\n",
              "    .colab-df-convert:hover {\n",
              "      background-color: #E2EBFA;\n",
              "      box-shadow: 0px 1px 2px rgba(60, 64, 67, 0.3), 0px 1px 3px 1px rgba(60, 64, 67, 0.15);\n",
              "      fill: #174EA6;\n",
              "    }\n",
              "\n",
              "    [theme=dark] .colab-df-convert {\n",
              "      background-color: #3B4455;\n",
              "      fill: #D2E3FC;\n",
              "    }\n",
              "\n",
              "    [theme=dark] .colab-df-convert:hover {\n",
              "      background-color: #434B5C;\n",
              "      box-shadow: 0px 1px 3px 1px rgba(0, 0, 0, 0.15);\n",
              "      filter: drop-shadow(0px 1px 2px rgba(0, 0, 0, 0.3));\n",
              "      fill: #FFFFFF;\n",
              "    }\n",
              "  </style>\n",
              "\n",
              "      <script>\n",
              "        const buttonEl =\n",
              "          document.querySelector('#df-cf35ee42-0a46-4ad5-b3d5-72430f2a0b37 button.colab-df-convert');\n",
              "        buttonEl.style.display =\n",
              "          google.colab.kernel.accessAllowed ? 'block' : 'none';\n",
              "\n",
              "        async function convertToInteractive(key) {\n",
              "          const element = document.querySelector('#df-cf35ee42-0a46-4ad5-b3d5-72430f2a0b37');\n",
              "          const dataTable =\n",
              "            await google.colab.kernel.invokeFunction('convertToInteractive',\n",
              "                                                     [key], {});\n",
              "          if (!dataTable) return;\n",
              "\n",
              "          const docLinkHtml = 'Like what you see? Visit the ' +\n",
              "            '<a target=\"_blank\" href=https://colab.research.google.com/notebooks/data_table.ipynb>data table notebook</a>'\n",
              "            + ' to learn more about interactive tables.';\n",
              "          element.innerHTML = '';\n",
              "          dataTable['output_type'] = 'display_data';\n",
              "          await google.colab.output.renderOutput(dataTable, element);\n",
              "          const docLink = document.createElement('div');\n",
              "          docLink.innerHTML = docLinkHtml;\n",
              "          element.appendChild(docLink);\n",
              "        }\n",
              "      </script>\n",
              "    </div>\n",
              "  </div>\n",
              "  "
            ]
          },
          "metadata": {},
          "execution_count": 101
        }
      ]
    },
    {
      "cell_type": "code",
      "source": [
        "clean_desc = []\n",
        "for w in range(len(df.text)):\n",
        "    desc = df['text'][w].lower()\n",
        "    \n",
        "    # Remove punctuation\n",
        "    desc = re.sub('[^a-zA-Z]', ' ', desc)\n",
        "    \n",
        "    # Remove tags\n",
        "    desc=re.sub(\"&lt;/?.*?&gt;\",\" &lt;&gt; \",desc)\n",
        "    \n",
        "    # Remove digits and special chars\n",
        "    desc=re.sub(\"(\\\\d|\\\\W)+\",\" \",desc)\n",
        "    \n",
        "    clean_desc.append(desc)\n",
        "    \n",
        "# Assign the cleaned descriptions to the data frame\n",
        "df['text'] = clean_desc\n",
        "df = df.reset_index()        \n",
        "df.head(3)"
      ],
      "metadata": {
        "colab": {
          "base_uri": "https://localhost:8080/",
          "height": 143
        },
        "id": "6XtXWJHVP6X5",
        "outputId": "793440c3-6567-4e74-f752-70190a4ff32a"
      },
      "execution_count": null,
      "outputs": [
        {
          "output_type": "execute_result",
          "data": {
            "text/plain": [
              "   index                                               text  spam\n",
              "0      0  subject naturally irresistible your corporate ...     1\n",
              "1      1  subject the stock trading gunslinger fanny is ...     1\n",
              "2      2  subject unbelievable new homes made easy im wa...     1"
            ],
            "text/html": [
              "\n",
              "  <div id=\"df-fde2a8c9-f1f6-4abd-8fc9-4da34ce6d89d\">\n",
              "    <div class=\"colab-df-container\">\n",
              "      <div>\n",
              "<style scoped>\n",
              "    .dataframe tbody tr th:only-of-type {\n",
              "        vertical-align: middle;\n",
              "    }\n",
              "\n",
              "    .dataframe tbody tr th {\n",
              "        vertical-align: top;\n",
              "    }\n",
              "\n",
              "    .dataframe thead th {\n",
              "        text-align: right;\n",
              "    }\n",
              "</style>\n",
              "<table border=\"1\" class=\"dataframe\">\n",
              "  <thead>\n",
              "    <tr style=\"text-align: right;\">\n",
              "      <th></th>\n",
              "      <th>index</th>\n",
              "      <th>text</th>\n",
              "      <th>spam</th>\n",
              "    </tr>\n",
              "  </thead>\n",
              "  <tbody>\n",
              "    <tr>\n",
              "      <th>0</th>\n",
              "      <td>0</td>\n",
              "      <td>subject naturally irresistible your corporate ...</td>\n",
              "      <td>1</td>\n",
              "    </tr>\n",
              "    <tr>\n",
              "      <th>1</th>\n",
              "      <td>1</td>\n",
              "      <td>subject the stock trading gunslinger fanny is ...</td>\n",
              "      <td>1</td>\n",
              "    </tr>\n",
              "    <tr>\n",
              "      <th>2</th>\n",
              "      <td>2</td>\n",
              "      <td>subject unbelievable new homes made easy im wa...</td>\n",
              "      <td>1</td>\n",
              "    </tr>\n",
              "  </tbody>\n",
              "</table>\n",
              "</div>\n",
              "      <button class=\"colab-df-convert\" onclick=\"convertToInteractive('df-fde2a8c9-f1f6-4abd-8fc9-4da34ce6d89d')\"\n",
              "              title=\"Convert this dataframe to an interactive table.\"\n",
              "              style=\"display:none;\">\n",
              "        \n",
              "  <svg xmlns=\"http://www.w3.org/2000/svg\" height=\"24px\"viewBox=\"0 0 24 24\"\n",
              "       width=\"24px\">\n",
              "    <path d=\"M0 0h24v24H0V0z\" fill=\"none\"/>\n",
              "    <path d=\"M18.56 5.44l.94 2.06.94-2.06 2.06-.94-2.06-.94-.94-2.06-.94 2.06-2.06.94zm-11 1L8.5 8.5l.94-2.06 2.06-.94-2.06-.94L8.5 2.5l-.94 2.06-2.06.94zm10 10l.94 2.06.94-2.06 2.06-.94-2.06-.94-.94-2.06-.94 2.06-2.06.94z\"/><path d=\"M17.41 7.96l-1.37-1.37c-.4-.4-.92-.59-1.43-.59-.52 0-1.04.2-1.43.59L10.3 9.45l-7.72 7.72c-.78.78-.78 2.05 0 2.83L4 21.41c.39.39.9.59 1.41.59.51 0 1.02-.2 1.41-.59l7.78-7.78 2.81-2.81c.8-.78.8-2.07 0-2.86zM5.41 20L4 18.59l7.72-7.72 1.47 1.35L5.41 20z\"/>\n",
              "  </svg>\n",
              "      </button>\n",
              "      \n",
              "  <style>\n",
              "    .colab-df-container {\n",
              "      display:flex;\n",
              "      flex-wrap:wrap;\n",
              "      gap: 12px;\n",
              "    }\n",
              "\n",
              "    .colab-df-convert {\n",
              "      background-color: #E8F0FE;\n",
              "      border: none;\n",
              "      border-radius: 50%;\n",
              "      cursor: pointer;\n",
              "      display: none;\n",
              "      fill: #1967D2;\n",
              "      height: 32px;\n",
              "      padding: 0 0 0 0;\n",
              "      width: 32px;\n",
              "    }\n",
              "\n",
              "    .colab-df-convert:hover {\n",
              "      background-color: #E2EBFA;\n",
              "      box-shadow: 0px 1px 2px rgba(60, 64, 67, 0.3), 0px 1px 3px 1px rgba(60, 64, 67, 0.15);\n",
              "      fill: #174EA6;\n",
              "    }\n",
              "\n",
              "    [theme=dark] .colab-df-convert {\n",
              "      background-color: #3B4455;\n",
              "      fill: #D2E3FC;\n",
              "    }\n",
              "\n",
              "    [theme=dark] .colab-df-convert:hover {\n",
              "      background-color: #434B5C;\n",
              "      box-shadow: 0px 1px 3px 1px rgba(0, 0, 0, 0.15);\n",
              "      filter: drop-shadow(0px 1px 2px rgba(0, 0, 0, 0.3));\n",
              "      fill: #FFFFFF;\n",
              "    }\n",
              "  </style>\n",
              "\n",
              "      <script>\n",
              "        const buttonEl =\n",
              "          document.querySelector('#df-fde2a8c9-f1f6-4abd-8fc9-4da34ce6d89d button.colab-df-convert');\n",
              "        buttonEl.style.display =\n",
              "          google.colab.kernel.accessAllowed ? 'block' : 'none';\n",
              "\n",
              "        async function convertToInteractive(key) {\n",
              "          const element = document.querySelector('#df-fde2a8c9-f1f6-4abd-8fc9-4da34ce6d89d');\n",
              "          const dataTable =\n",
              "            await google.colab.kernel.invokeFunction('convertToInteractive',\n",
              "                                                     [key], {});\n",
              "          if (!dataTable) return;\n",
              "\n",
              "          const docLinkHtml = 'Like what you see? Visit the ' +\n",
              "            '<a target=\"_blank\" href=https://colab.research.google.com/notebooks/data_table.ipynb>data table notebook</a>'\n",
              "            + ' to learn more about interactive tables.';\n",
              "          element.innerHTML = '';\n",
              "          dataTable['output_type'] = 'display_data';\n",
              "          await google.colab.output.renderOutput(dataTable, element);\n",
              "          const docLink = document.createElement('div');\n",
              "          docLink.innerHTML = docLinkHtml;\n",
              "          element.appendChild(docLink);\n",
              "        }\n",
              "      </script>\n",
              "    </div>\n",
              "  </div>\n",
              "  "
            ]
          },
          "metadata": {},
          "execution_count": 102
        }
      ]
    },
    {
      "cell_type": "markdown",
      "source": [
        "## TL;DR (\"too long; didn't read\") - Part I\n",
        "The first part of this Jupyter notebook is about a machine learning model for spam detection. It uses the Python library Scikit-Learn to explore tokenization, vectorization, and statistical classification algorithms. The code is preprocessing the data by loading an excel file of emails, checking for non-integer values and missing values in the 'spam' column, and dropping those rows. Then it is removing punctuation, tags, digits, and special characters from the text of the emails and making them lowercase. The final output is a cleaned dataframe with columns 'text' and 'spam' which can be used for training the model."
      ],
      "metadata": {
        "id": "aNzA2hvOYTZR"
      }
    },
    {
      "cell_type": "markdown",
      "source": [
        "# **Part II**"
      ],
      "metadata": {
        "id": "vqQFR_0jY1Oy"
      }
    },
    {
      "cell_type": "markdown",
      "metadata": {
        "id": "VImuYPXVAB_L"
      },
      "source": [
        "## Import Dependencies for Learning"
      ]
    },
    {
      "cell_type": "markdown",
      "metadata": {
        "id": "42nARODK_-_w"
      },
      "source": [
        "Import the **Scikit-Learn** functionality needed to transform and model the data. Use `CountVectorizer`, `train_test_split`,  `ensemble` models, and some metrics. "
      ]
    },
    {
      "cell_type": "code",
      "execution_count": null,
      "metadata": {
        "id": "L_kxz5aV_RYu"
      },
      "outputs": [],
      "source": [
        "from sklearn.feature_extraction.text import CountVectorizer \n",
        "from sklearn.model_selection import train_test_split \n",
        "from sklearn import ensemble  \n",
        "from sklearn.metrics import classification_report, accuracy_score \n"
      ]
    },
    {
      "cell_type": "markdown",
      "metadata": {
        "id": "jcgygULPAJxo"
      },
      "source": [
        "## Transforming Text to Numbers\n",
        "A demo (not connected to our actual DataFrame!)"
      ]
    },
    {
      "cell_type": "markdown",
      "metadata": {
        "id": "Rle_X0GpAOyW"
      },
      "source": [
        "**Tokenization** is the process of breaking down a sentence into individual words. The individual words are called  tokens. Using SciKit-Learn’s `CountVectorizer()`, it is easy to transform the body of text into a sparse matrix  of numbers that the computer can pass to machine learning algorithms. To simplify the concept of count vectorization, imagine you have two sentences: \n",
        "\n",
        "<br>\n",
        "\n",
        "> The dog is white <br>\n",
        "> The cat is black \n",
        "\n",
        "\n",
        "Converting the sentences to a vector space model would transform them in such a way that looks at the words in all  sentences, and then represents the words in the sentence with a number. \n",
        "\n",
        "> The dog cat is white black <br>\n",
        "\n",
        "> The dog is white = [1,1,0,1,1,0] <br>\n",
        "\n",
        "> The cat is black = [1,0,1,1,0,1] <br>\n",
        "\n",
        "We can show this using code as well. Add a third sentence to show that it counts the tokens. \n"
      ]
    },
    {
      "cell_type": "code",
      "execution_count": null,
      "metadata": {
        "id": "d_dSwtaEA4Oj"
      },
      "outputs": [],
      "source": [
        "# List of sentences \n",
        "text = [\"the dog is white\", \"the cat is black\", \"the cat and the dog are friends\"] \n"
      ]
    },
    {
      "cell_type": "code",
      "execution_count": null,
      "metadata": {
        "id": "ep3a4-poBDR_"
      },
      "outputs": [],
      "source": [
        "# Instantiate the class \n",
        "cv = CountVectorizer() \n"
      ]
    },
    {
      "cell_type": "code",
      "execution_count": null,
      "metadata": {
        "colab": {
          "base_uri": "https://localhost:8080/"
        },
        "id": "WxVr82syBHm1",
        "outputId": "2f21f688-980f-458a-8bd1-c1cfe93fe31a"
      },
      "outputs": [
        {
          "output_type": "stream",
          "name": "stdout",
          "text": [
            "{'the': 7, 'dog': 4, 'is': 6, 'white': 8, 'cat': 3, 'black': 2, 'and': 0, 'are': 1, 'friends': 5}\n"
          ]
        }
      ],
      "source": [
        "# Tokenize and build vocab \n",
        "cv.fit(text) \n",
        "print(cv.vocabulary_) \n"
      ]
    },
    {
      "cell_type": "markdown",
      "metadata": {
        "id": "M47f_OJZBfsa"
      },
      "source": [
        "The sparse matrix of word counts. ☝"
      ]
    },
    {
      "cell_type": "code",
      "execution_count": null,
      "metadata": {
        "id": "UzCcMgSlBSwA"
      },
      "outputs": [],
      "source": [
        "# Transform the text \n",
        "vector = cv.transform(text) \n"
      ]
    },
    {
      "cell_type": "code",
      "execution_count": null,
      "metadata": {
        "colab": {
          "base_uri": "https://localhost:8080/"
        },
        "id": "nI-yrzcbBXPw",
        "outputId": "406564f4-6288-4043-fcc7-78fda72db890"
      },
      "outputs": [
        {
          "output_type": "stream",
          "name": "stdout",
          "text": [
            "[[0 0 0 0 1 0 1 1 1]\n",
            " [0 0 1 1 0 0 1 1 0]\n",
            " [1 1 0 1 1 1 0 2 0]]\n"
          ]
        }
      ],
      "source": [
        "print(vector.toarray())"
      ]
    },
    {
      "cell_type": "markdown",
      "metadata": {
        "id": "7cuy9gPlBsYt"
      },
      "source": [
        "Notice in the last vector☝, you can see a 2 since the word “the” appears twice. The **`CountVectorizer`** is counting the  tokens and allows me to construct the sparse matrix containing the transformed words into numbers."
      ]
    },
    {
      "cell_type": "markdown",
      "metadata": {
        "id": "votPnh7bB58R"
      },
      "source": [
        "## Bag of Words Method "
      ]
    },
    {
      "cell_type": "markdown",
      "metadata": {
        "id": "NUQvbfzVB9zC"
      },
      "source": [
        "Because the model doesn’t take word placement into account, and instead mixes the words up as if they were tiles in  a scrabble game, this is called the **bag of words** method. Create the sparse matrix, then split the data using sk-learn **`train_test_split()`**. "
      ]
    },
    {
      "cell_type": "code",
      "source": [
        "# Instantiate the class \n",
        "cv = CountVectorizer() "
      ],
      "metadata": {
        "id": "UB6GVNGDit1q"
      },
      "execution_count": null,
      "outputs": []
    },
    {
      "cell_type": "code",
      "source": [
        "# Tokenize and build vocab \n",
        "cv.fit(df['text']) "
      ],
      "metadata": {
        "colab": {
          "base_uri": "https://localhost:8080/"
        },
        "id": "JB3BQ9W3iz5s",
        "outputId": "f20be370-d3fe-4ae2-a5f1-f776c8bf0ecf"
      },
      "execution_count": null,
      "outputs": [
        {
          "output_type": "execute_result",
          "data": {
            "text/plain": [
              "CountVectorizer()"
            ]
          },
          "metadata": {},
          "execution_count": 110
        }
      ]
    },
    {
      "cell_type": "code",
      "source": [
        "# Transform the text \n",
        "text_vec = cv.transform(df['text'])"
      ],
      "metadata": {
        "id": "nUl159e2i2lD"
      },
      "execution_count": null,
      "outputs": []
    },
    {
      "cell_type": "code",
      "execution_count": null,
      "metadata": {
        "id": "cZhSbUW1B9SP"
      },
      "outputs": [],
      "source": [
        "'''\n",
        "⚠️\n",
        "Once the text has been transformed using the CountVectorizer(), \n",
        "it is difficult to decode it back to the original words because \n",
        "the mapping between the words and the integer representations is \n",
        "lost during the transformation process. \n",
        "So please, DO NOT RUN the code below this.\n",
        "'''\n",
        "#⚠️ text_vec = CountVectorizer().fit_transform(df['text'])\n",
        "\n",
        "# Split the data\n",
        "X_train, X_test, y_train, y_test = train_test_split(text_vec, df['spam'], \n",
        "                                                    test_size = 0.45, \n",
        "                                                    random_state = 42, \n",
        "                                                    shuffle = True)"
      ]
    },
    {
      "cell_type": "markdown",
      "source": [
        "Notice sparse matrix **`text_vec`** is set to `X` and the **`df[‘spam’]`** column to `Y`. Shuffle and take a test size of 45%. "
      ],
      "metadata": {
        "id": "_2cbHpBjRYXo"
      }
    },
    {
      "cell_type": "markdown",
      "source": [
        "## Build The Classifier"
      ],
      "metadata": {
        "id": "clEYXsbLRkB-"
      }
    },
    {
      "cell_type": "markdown",
      "source": [
        "It is highly recommended to experiment with several classifiers and determine which one works best for this scenario. In  this example, use the **`GradientBoostingClassifier()`** model from the Scikit-Learn Ensemble collection. "
      ],
      "metadata": {
        "id": "CO71qasVRsGb"
      }
    },
    {
      "cell_type": "code",
      "source": [
        "classifier = ensemble.GradientBoostingClassifier(\n",
        "    n_estimators = 100, # How many decision trees to build\n",
        "    learning_rate = 0.5, # Learning rate\n",
        "    max_depth = 6\n",
        ")"
      ],
      "metadata": {
        "id": "sWbSQepTRFCo"
      },
      "execution_count": null,
      "outputs": []
    },
    {
      "cell_type": "markdown",
      "source": [
        "Each algorithm will have its own set of parameters you can tweak. That is called **hyper-parameter tuning**."
      ],
      "metadata": {
        "id": "47zN0bBkR2xS"
      }
    },
    {
      "cell_type": "markdown",
      "source": [
        "## Generate Predictions on Unseen Data\n",
        "Finally, **fit** the data, call `predict` and generate the classification report. Using `classification_report()`, it is  easy to build a text report showing the main classification metrics. "
      ],
      "metadata": {
        "id": "6tXFfujqSGND"
      }
    },
    {
      "cell_type": "code",
      "source": [
        "classifier.fit(X_train, y_train)"
      ],
      "metadata": {
        "colab": {
          "base_uri": "https://localhost:8080/"
        },
        "id": "81HVDqJ8Rpx9",
        "outputId": "57d5b0f7-b522-468f-ebb7-bc3b1ed2ee66"
      },
      "execution_count": null,
      "outputs": [
        {
          "output_type": "execute_result",
          "data": {
            "text/plain": [
              "GradientBoostingClassifier(learning_rate=0.5, max_depth=6)"
            ]
          },
          "metadata": {},
          "execution_count": 114
        }
      ]
    },
    {
      "cell_type": "code",
      "source": [
        "predictions = classifier.predict(X_test)\n",
        "\n",
        "print(classification_report(y_test, predictions))"
      ],
      "metadata": {
        "colab": {
          "base_uri": "https://localhost:8080/"
        },
        "id": "kP2wnTRjRNGu",
        "outputId": "e239e63e-bd73-4ac0-be30-bfe59c99354e"
      },
      "execution_count": null,
      "outputs": [
        {
          "output_type": "stream",
          "name": "stdout",
          "text": [
            "              precision    recall  f1-score   support\n",
            "\n",
            "           0       0.97      0.99      0.98      1926\n",
            "           1       0.96      0.90      0.93       636\n",
            "\n",
            "    accuracy                           0.97      2562\n",
            "   macro avg       0.96      0.94      0.95      2562\n",
            "weighted avg       0.97      0.97      0.97      2562\n",
            "\n"
          ]
        }
      ]
    },
    {
      "cell_type": "markdown",
      "source": [
        "**Notice our model achieved 97% accuracy. Not bad!**"
      ],
      "metadata": {
        "id": "5lvpHrs1SvXJ"
      }
    },
    {
      "cell_type": "code",
      "source": [
        "'''\n",
        "Here, I have added a line to store the original text of the email in a variable called original_text. \n",
        "The specific email that you want to generate a prediction for is chosen using the index i and \n",
        "the original text is accessed using df_original.iloc[i]['text']. \n",
        "This original text is then passed to the transform() method to generate predictions.\n",
        "Finally, I've added some print statements to display the text of the email and the model's prediction for it.\n",
        "'''\n",
        "\n",
        "# Generating predictions for a specific email\n",
        "i = 5\n",
        "\n",
        "# Store the original text of the email\n",
        "original_text = df_original.iloc[i]['text']\n",
        "\n",
        "# Transform the test email using the CountVectorizer\n",
        "test_vec = cv.transform([df_original.iloc[i]['text']])\n",
        "\n",
        "# Generate predictions\n",
        "predictions = classifier.predict(test_vec)\n",
        "\n",
        "# Print the text of the email\n",
        "print(\"Text of email:\")\n",
        "print(original_text)\n",
        "\n",
        "# Print the predictions\n",
        "print(\"\\nPrediction:\")\n",
        "if predictions[0] == 0:\n",
        "    print(\"✅Not spam\")\n",
        "else:\n",
        "    print(\"⚠️Spam\")\n"
      ],
      "metadata": {
        "colab": {
          "base_uri": "https://localhost:8080/"
        },
        "id": "dwPmhbp_cJk5",
        "outputId": "16a9b4ad-d00d-4beb-9aa8-1c7c59223b17"
      },
      "execution_count": null,
      "outputs": [
        {
          "output_type": "stream",
          "name": "stdout",
          "text": [
            "Text of email:\n",
            "Subject: great nnews  hello , welcome to medzonline sh groundsel op  we are pleased to introduce ourselves as one of the ieading online phar felicitation maceuticai shops .  helter v  shakedown r  a cosmopolitan l  l blister l  l bestow ag  ac tosher l  is coadjutor va  confidant um  andmanyother .  - sav inexpiable e over 75 %  - total confide leisure ntiaiity  - worldwide s polite hlpplng  - ov allusion er 5 miilion customers in 150 countries  have devitalize a nice day !\n",
            "\n",
            "Prediction:\n",
            "⚠️Spam\n"
          ]
        }
      ]
    },
    {
      "cell_type": "markdown",
      "source": [
        "## TL;DR (\"too long; didn't read\") - Part II\n",
        "This part of the Jupyter notebook is using the Scikit-Learn library to build a spam detection model. It is using the `CountVectorizer()` function to tokenize the text of the emails and convert them into a sparse matrix of word counts, which is then used as input for the machine learning model. The bag of words method is used, which ignores the order of the words in the text and treats them as if they were tiles in a game of Scrabble. The `train_test_split()` function is used to split the data into training and testing sets. The `GradientBoostingClassifier()` model from the Scikit-Learn Ensemble collection is used as the classifier, which is trained on the training data and then used to make predictions on the testing data. The predictions are then evaluated using the `classification_report()` function, which generates a report with metrics such as accuracy, precision, recall, and F1 score. The model achieved **97% accuracy** in this example."
      ],
      "metadata": {
        "id": "RXfTphJwaOJu"
      }
    }
  ],
  "metadata": {
    "colab": {
      "provenance": []
    },
    "kernelspec": {
      "display_name": "Python 3",
      "name": "python3"
    },
    "language_info": {
      "name": "python"
    }
  },
  "nbformat": 4,
  "nbformat_minor": 0
}